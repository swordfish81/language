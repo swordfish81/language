{
 "cells": [
  {
   "cell_type": "markdown",
   "id": "ef72614d",
   "metadata": {},
   "source": [
    "# Learning Latvian!!\n",
    "-----------------------------------------"
   ]
  },
  {
   "cell_type": "code",
   "execution_count": 223,
   "id": "6c7ac2ba",
   "metadata": {},
   "outputs": [],
   "source": [
    "import urllib.request, sys, time\n",
    "from bs4 import BeautifulSoup\n",
    "import requests\n",
    "from newspaper import Article, nlp\n",
    "import re, string\n",
    "import pandas as pd\n",
    "from googletrans import Translator\n",
    "#pip install googletrans==4.0.0-rc1\n",
    "from nltk import tokenize\n",
    "translator = Translator()"
   ]
  },
  {
   "cell_type": "markdown",
   "id": "c95e42f2",
   "metadata": {},
   "source": [
    "Enter the URL below (code currently configured to work with LSM.lv)"
   ]
  },
  {
   "cell_type": "code",
   "execution_count": 199,
   "id": "ec7813b8",
   "metadata": {},
   "outputs": [],
   "source": [
    "url ='https://www.lsm.lv/'"
   ]
  },
  {
   "cell_type": "markdown",
   "id": "1f026d16",
   "metadata": {},
   "source": [
    "Response should be 200"
   ]
  },
  {
   "cell_type": "code",
   "execution_count": 217,
   "id": "18d55d0f",
   "metadata": {},
   "outputs": [],
   "source": [
    "new_df= pd.read_csv('latvian_translation.csv')\n",
    "trs_builder = dict(zip(new_df.LV, new_df.EN))"
   ]
  },
  {
   "cell_type": "code",
   "execution_count": 200,
   "id": "18746a62",
   "metadata": {
    "scrolled": true
   },
   "outputs": [
    {
     "name": "stdout",
     "output_type": "stream",
     "text": [
      "Page Response:  <Response [200]>\n"
     ]
    }
   ],
   "source": [
    "try:\n",
    "    page = requests.get(url)\n",
    "    print('Page Response: ', page)\n",
    "    \n",
    "except Exception as e:\n",
    "    error_type, error_obj, error_info = sys.exc_info()\n",
    "    print('ERROR FOR LINK:',url)\n",
    "    print(error_type, error_obj, error_info.tb_lineno)"
   ]
  },
  {
   "cell_type": "markdown",
   "id": "b24655c4",
   "metadata": {},
   "source": [
    "_Get URLS with class \"class_tag\"- (configured to lsm)_ Also removes '#'"
   ]
  },
  {
   "cell_type": "code",
   "execution_count": 201,
   "id": "564360b1",
   "metadata": {},
   "outputs": [],
   "source": [
    "soup = BeautifulSoup(page.text, 'lxml')\n",
    "\n",
    "class_tags = 'thumbnail__caption'\n",
    "holder = []\n",
    "\n",
    "for tags in soup.find_all('a',class_tags):\n",
    "    holder.append(tags['href'])\n",
    "    \n",
    "holder.remove('#')\n",
    "\n",
    "## Converts from relative to absolute URLS\n",
    "## Truncate URL... remove everything from ?utm* -- Specific to LSM. Will need to be tweaked/skipped for other websites\n",
    "cleaned_url = []\n",
    "\n",
    "for words in holder[:15]:\n",
    "    if words[:1] == '/':\n",
    "        new_page = 'https://www.lsm.lv'+ words\n",
    "        cleaned_url.append(new_page.split('?utm')[0])"
   ]
  },
  {
   "cell_type": "markdown",
   "id": "04fdbe9c",
   "metadata": {},
   "source": [
    "For each URL, get link, title, summary. Then split summary into individual words, remove any punctuations and parse via Google Translate\n",
    "\n",
    "_To Do_  \n",
    "  - Break down words to its root and translate the root word only"
   ]
  },
  {
   "cell_type": "code",
   "execution_count": 238,
   "id": "90245b7e",
   "metadata": {
    "scrolled": false
   },
   "outputs": [
    {
     "name": "stdout",
     "output_type": "stream",
     "text": [
      "https://www.lsm.lv/raksts/zinas/latvija/jaunas-vienotibas-premjera-amata-kandidats-nakamajas-saeimas-velesanas-bus-karins.a462063/\n",
      "«Jaunās vienotības» premjera amata kandidāts nākamajās Saeimas vēlēšanās būs Kariņš \n",
      "\n",
      "Rudenī gaidāmajās 14. Saeimas vēlēšanās partiju apvienības \"Jaunā vienotība\" Ministru prezidenta amata kandidāts būs esošais premjers Krišjānis Kariņš. \n",
      "\n",
      "Rudenī  -> In the fall\n",
      "gaidāmajās  -> in the upcoming\n",
      "Saeimas  -> Saeima\n",
      "vēlēšanās  -> desire\n",
      "partiju  -> party\n",
      "apvienības  -> association\n",
      "Jaunā  -> New\n",
      "vienotība  -> unity\n",
      "Ministru  -> Minister\n",
      "prezidenta  -> presidential\n",
      "amata  -> position\n",
      "kandidāts  -> candidate\n",
      "esošais  -> Existing\n",
      "premjers  -> prime minister\n",
      "Krišjānis  -> Krišjānis\n",
      "Kariņš  -> War\n",
      "----------------------------------------------------------------------------------------------------\n",
      "Rudenī gaidāmajās 14.\n",
      "In the upcoming 14th.\n",
      "Saeimas vēlēšanās partiju apvienības \"Jaunā vienotība\" Ministru prezidenta amata kandidāts būs esošais premjers Krišjānis Kariņš.\n",
      "In the Saeima elections, the candidate for the Prime Minister of the New Unity Party will be the current Prime Minister Krišjānis Kariņš.\n",
      "----------------------------------------------------------------------------------------------------\n",
      "**************************************************\n",
      "https://www.lsm.lv/raksts/dzive--stils/cilvekstasti/dievam-vislielakais-parbaudijums-ir-garlaicigi-sprediki--eslingenas-macitajs-elmars-rozitis.a461980/\n",
      "«Dievam vislielākais pārbaudījums ir garlaicīgi sprediķi» – Eslingenas mācītājs Elmārs Rozītis \n",
      "\n",
      "Rozīša kungs – bijušo arhibīskapu Elmāru Ernstu Rozīti latviešu kopienās diasporā uzrunā tikai tā, turklāt ar tādu īpašu izteiksmes veidu, kurā jūtama ne tikai liela cieņa, bet arī liela sirsnība. Viņ... \n",
      "\n",
      "Rozīša  -> Raisy\n",
      "kungs  -> Mister\n",
      "bijušo  -> former\n",
      "arhibīskapu  -> Archbishop\n",
      "Elmāru  -> Elmar\n",
      "Ernstu  -> Ernst\n",
      "Rozīti  -> Rose\n",
      "latviešu  -> Latvian\n",
      "kopienās  -> Community\n",
      "diasporā  -> diaspora\n",
      "uzrunā  -> address\n",
      "tikai  -> only\n",
      "turklāt  -> besides\n",
      "tādu  -> such\n",
      "īpašu  -> special\n",
      "izteiksmes  -> expression\n",
      "veidu  -> type\n",
      "kurā  -> in which\n",
      "jūtama  -> felt\n",
      "tikai  -> only\n",
      "liela  -> large\n",
      "cieņa  -> dignity\n",
      "liela  -> large\n",
      "sirsnība  -> sincerity\n",
      "----------------------------------------------------------------------------------------------------\n",
      "Rozīša kungs – bijušo arhibīskapu Elmāru Ernstu Rozīti latviešu kopienās diasporā uzrunā tikai tā, turklāt ar tādu īpašu izteiksmes veidu, kurā jūtama ne tikai liela cieņa, bet arī liela sirsnība.\n",
      "Mr. Rozitis, the former Archbishop Elmar Ernst Rozitis, speaks only in the diaspora of the Latvian communities, and with a special form of expression that felt not only great respect but also great sincerity.\n",
      "Viņ...\n",
      "Her ...\n",
      "----------------------------------------------------------------------------------------------------\n",
      "**************************************************\n"
     ]
    }
   ],
   "source": [
    "kw_builder = []\n",
    "\n",
    "for cleaned in cleaned_url[:2]:\n",
    "    print(cleaned)\n",
    "    article = Article(cleaned)\n",
    "    article.download()\n",
    "    article.parse()\n",
    "    article.nlp()\n",
    "    print(article.title,'\\n')\n",
    "    print(article.meta_description,'\\n')\n",
    "    a_words = article.meta_description.split()\n",
    "    cleaned_words = [''.join(letter for letter in word if letter not in string.punctuation) for word in a_words if word]\n",
    "    \n",
    "    sentences = tokenize.sent_tokenize(article.meta_description)\n",
    "    \n",
    "    for word in cleaned_words:\n",
    "        if len(word) > 3:\n",
    "            translated_text = translator.translate(word, src='lv', dest='en')\n",
    "            print(word, ' ->', translated_text.text)\n",
    "            \n",
    "            \n",
    "            trs_builder.update({word : translated_text.text})\n",
    "            kw_builder.append(word)\n",
    "    \n",
    "    print('--'*50)        \n",
    "    for sentence in sentences:\n",
    "        trans_sentence = translator.translate(sentence, src='lv', dest='en' )\n",
    "        print(sentence)\n",
    "        print( trans_sentence.text)\n",
    "    print('--'*50)    \n",
    "    print('*'*50)"
   ]
  },
  {
   "cell_type": "code",
   "execution_count": 219,
   "id": "7205e719",
   "metadata": {},
   "outputs": [],
   "source": [
    "# Remove duplicates\n",
    "temp = []\n",
    "res = dict()\n",
    "for key, val in trs_builder.items():\n",
    "    if val not in temp:\n",
    "        temp.append(val)\n",
    "        res[key] = val"
   ]
  },
  {
   "cell_type": "code",
   "execution_count": 221,
   "id": "698e3aa6",
   "metadata": {},
   "outputs": [],
   "source": [
    "df = pd.DataFrame(res.items(), columns=['LV','EN'])\n",
    "df.to_csv('latvian_translation.csv', index=False)"
   ]
  },
  {
   "cell_type": "code",
   "execution_count": null,
   "id": "6b3b0ab9",
   "metadata": {},
   "outputs": [],
   "source": []
  }
 ],
 "metadata": {
  "kernelspec": {
   "display_name": "Python 3 (ipykernel)",
   "language": "python",
   "name": "python3"
  },
  "language_info": {
   "codemirror_mode": {
    "name": "ipython",
    "version": 3
   },
   "file_extension": ".py",
   "mimetype": "text/x-python",
   "name": "python",
   "nbconvert_exporter": "python",
   "pygments_lexer": "ipython3",
   "version": "3.10.1"
  }
 },
 "nbformat": 4,
 "nbformat_minor": 5
}
